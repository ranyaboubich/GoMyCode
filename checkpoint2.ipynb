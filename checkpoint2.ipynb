{
 "cells": [
  {
   "cell_type": "code",
   "execution_count": 1,
   "metadata": {},
   "outputs": [
    {
     "name": "stdout",
     "output_type": "stream",
     "text": [
      "[2002, 2009, 2016, 2023, 2037, 2044, 2051, 2058, 2072, 2079, 2086, 2093, 2107, 2114, 2121, 2128, 2142, 2149, 2156, 2163, 2177, 2184, 2191, 2198, 2212, 2219, 2226, 2233, 2247, 2254, 2261, 2268, 2282, 2289, 2296, 2303, 2317, 2324, 2331, 2338, 2352, 2359, 2366, 2373, 2387, 2394, 2401, 2408, 2422, 2429, 2436, 2443, 2457, 2464, 2471, 2478, 2492, 2499, 2506, 2513, 2527, 2534, 2541, 2548, 2562, 2569, 2576, 2583, 2597, 2604, 2611, 2618, 2632, 2639, 2646, 2653, 2667, 2674, 2681, 2688, 2702, 2709, 2716, 2723, 2737, 2744, 2751, 2758, 2772, 2779, 2786, 2793, 2807, 2814, 2821, 2828, 2842, 2849, 2856, 2863, 2877, 2884, 2891, 2898, 2912, 2919, 2926, 2933, 2947, 2954, 2961, 2968, 2982, 2989, 2996, 3003, 3017, 3024, 3031, 3038, 3052, 3059, 3066, 3073, 3087, 3094, 3101, 3108, 3122, 3129, 3136, 3143, 3157, 3164, 3171, 3178, 3192, 3199]\n"
     ]
    }
   ],
   "source": [
    "mylist=[]\n",
    "for x in range (2000,3201,1):\n",
    "    if ((x%7)==0) and ((x%5)!=0 ):\n",
    "        mylist.append(x)\n",
    "print(mylist )"
   ]
  },
  {
   "cell_type": "code",
   "execution_count": 1,
   "metadata": {},
   "outputs": [
    {
     "name": "stdin",
     "output_type": "stream",
     "text": [
      "zertyu 8\n"
     ]
    },
    {
     "data": {
      "text/plain": [
       "40320"
      ]
     },
     "execution_count": 1,
     "metadata": {},
     "output_type": "execute_result"
    }
   ],
   "source": [
    "def factoriel(p):\n",
    "    s=1\n",
    "    for y in range(1,p+1):\n",
    "       s*=y\n",
    "    return(s)\n",
    "x=int(input('zertyu'))\n",
    "factoriel(x)"
   ]
  },
  {
   "cell_type": "code",
   "execution_count": null,
   "metadata": {},
   "outputs": [],
   "source": [
    "def carre(p):\n",
    "    mydict={}\n",
    "    for x in range(1,p+1,1):\n",
    "        mydict[x]=x*x\n",
    "    print(mydict)    \n",
    "p=int(input())\n",
    "carre(p)\n",
    "        \n",
    "        "
   ]
  },
  {
   "cell_type": "code",
   "execution_count": 2,
   "metadata": {},
   "outputs": [
    {
     "name": "stdin",
     "output_type": "stream",
     "text": [
      " kitten\n",
      " 1\n"
     ]
    },
    {
     "name": "stdout",
     "output_type": "stream",
     "text": [
      "ktten\n"
     ]
    }
   ],
   "source": [
    "def missing(ch,p):\n",
    "    return (ch[0:p]+ch[p+1:len(ch)])\n",
    "ch=input()     \n",
    "p=int(input())\n",
    "print(missing(ch,p))"
   ]
  },
  {
   "cell_type": "code",
   "execution_count": 10,
   "metadata": {},
   "outputs": [
    {
     "name": "stdout",
     "output_type": "stream",
     "text": [
      "[[0 1]\n",
      " [2 3]\n",
      " [4 5]]\n",
      "[[0 1]\n",
      " [2 3]\n",
      " [4 5]]\n"
     ]
    }
   ],
   "source": [
    "import numpy as np \n",
    "new_array=np.array([[0, 1], [2 ,3] ,[4 ,5]] )\n",
    "print(new_array)\n",
    "new_list=new_array.tolist()\n",
    "print(new_array)"
   ]
  },
  {
   "cell_type": "code",
   "execution_count": 12,
   "metadata": {},
   "outputs": [
    {
     "name": "stdout",
     "output_type": "stream",
     "text": [
      "[0 1 2]\n",
      "[2 1 0]\n",
      "[[ 1. -1.]\n",
      " [-1.  1.]]\n"
     ]
    }
   ],
   "source": [
    "import numpy as np \n",
    "array1=np.array([0 ,1 ,2] )\n",
    "array2=np.array([2,1,0])\n",
    "print(array1)\n",
    "print(array2)\n",
    "print(np.cov(array1,array2))"
   ]
  },
  {
   "cell_type": "code",
   "execution_count": 14,
   "metadata": {},
   "outputs": [
    {
     "name": "stdin",
     "output_type": "stream",
     "text": [
      " 120,150,180\n"
     ]
    },
    {
     "name": "stdout",
     "output_type": "stream",
     "text": [
      "120\n",
      "120,150,180\n",
      "120\n",
      "120,150,180\n",
      " 120 ,120 ,\n"
     ]
    }
   ],
   "source": [
    "\n",
    "def fonction(c,d,h):\n",
    "    import math\n",
    "    q=math.sqrt((2 * c * d)/h )\n",
    "c=50\n",
    "h=30\n",
    "ch=input()\n",
    "ch1=' '\n",
    "for i in range(1,3,1):\n",
    "    d=int(ch[0:ch.find(',')])\n",
    "    print(d)\n",
    "    p=ch.find(',')\n",
    "    ch.replace(ch[0:p],' ')\n",
    "    print(ch)\n",
    "    fonction(c,d,h)\n",
    "    ch1=ch1+str(d)+' ,'\n",
    "print(ch1)   \n",
    "    \n",
    "        \n",
    "\n",
    "  \n",
    "    "
   ]
  },
  {
   "cell_type": "code",
   "execution_count": null,
   "metadata": {},
   "outputs": [],
   "source": []
  },
  {
   "cell_type": "code",
   "execution_count": null,
   "metadata": {},
   "outputs": [],
   "source": []
  }
 ],
 "metadata": {
  "kernelspec": {
   "display_name": "Python 3",
   "language": "python",
   "name": "python3"
  },
  "language_info": {
   "codemirror_mode": {
    "name": "ipython",
    "version": 3
   },
   "file_extension": ".py",
   "mimetype": "text/x-python",
   "name": "python",
   "nbconvert_exporter": "python",
   "pygments_lexer": "ipython3",
   "version": "3.8.3"
  }
 },
 "nbformat": 4,
 "nbformat_minor": 4
}
