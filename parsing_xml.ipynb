{
  "nbformat": 4,
  "nbformat_minor": 0,
  "metadata": {
    "colab": {
      "provenance": [],
      "mount_file_id": "1n0B6LRrlkp6DriFL3DM1f2EO1225rSBp",
      "authorship_tag": "ABX9TyN0u6Jbndj4kDYzGwODTc2x",
      "include_colab_link": true
    },
    "kernelspec": {
      "name": "python3",
      "display_name": "Python 3"
    },
    "language_info": {
      "name": "python"
    }
  },
  "cells": [
    {
      "cell_type": "markdown",
      "metadata": {
        "id": "view-in-github",
        "colab_type": "text"
      },
      "source": [
        "<a href=\"https://colab.research.google.com/github/ranyaboubich/GoMyCode/blob/master/parsing_xml.ipynb\" target=\"_parent\"><img src=\"https://colab.research.google.com/assets/colab-badge.svg\" alt=\"Open In Colab\"/></a>"
      ]
    },
    {
      "cell_type": "code",
      "source": [
        "import io\n",
        "import xml.etree.ElementTree as ET\n",
        "from pdfminer.converter import XMLConverter\n",
        "from pdfminer.pdfinterp import PDFResourceManager, PDFPageInterpreter\n",
        "from pdfminer.pdfpage import PDFPage\n",
        "\n",
        "def parsing(pdf_path):\n",
        "    resource_manager = PDFResourceManager()\n",
        "    xml_data = io.BytesIO()\n",
        "    converter = XMLConverter(resource_manager, xml_data, codec='utf-8')\n",
        "    page_interpreter = PDFPageInterpreter(resource_manager, converter)\n",
        "\n",
        "    with open(pdf_path, 'rb') as pdf_file:\n",
        "        for page in PDFPage.get_pages(pdf_file):\n",
        "            page_interpreter.process_page(page)\n",
        "\n",
        "    converter.close()\n",
        "    xml_data.seek(0)\n",
        "    return xml_data.read().decode('utf-8')\n",
        "\n",
        "def write_xml_file(xml_data, output_path):\n",
        "    with open(output_path, 'a', encoding='utf-8') as xml_file:\n",
        "        xml_file.write(xml_data)\n",
        "pdf_paths = [\n",
        "    \"/content/recession_goldman_sachs.pdf\",\n",
        "    \"/content/goldman_sachs_janvier_2023.pdf\",\n",
        "    \"/content/jpmorgan_private_banking_global_view_2023.pdf\",\n",
        "    \"/content/goldman_sachs_global_view_2023.pdf\",\n",
        "    \"/content/goldman_sachs_global_outlook.pdf\",\n",
        "    \"/content/bnp_parisbas_global_view_2023.pdf\"\n",
        "]\n",
        "\n",
        "\n",
        "#pdf_path = \"/content/goldman_sachs_global_view_2023.pdf\"\n",
        "output_path = \"/content/drive/MyDrive/test.xml\"\n",
        "for pdf_path in pdf_paths:\n",
        "    xml_data = parsing(pdf_path)\n",
        "    write_xml_file(xml_data, output_path)"
      ],
      "metadata": {
        "id": "CepZfYgC31rO"
      },
      "execution_count": null,
      "outputs": []
    },
    {
      "cell_type": "code",
      "source": [
        "!pip install pdfminer.six"
      ],
      "metadata": {
        "colab": {
          "base_uri": "https://localhost:8080/"
        },
        "id": "sxHKa0nn1gM0",
        "outputId": "cf859222-a7d3-497d-f8bc-781f09bbdcf3"
      },
      "execution_count": null,
      "outputs": [
        {
          "output_type": "stream",
          "name": "stdout",
          "text": [
            "Collecting pdfminer.six\n",
            "  Downloading pdfminer.six-20221105-py3-none-any.whl (5.6 MB)\n",
            "\u001b[?25l     \u001b[90m━━━━━━━━━━━━━━━━━━━━━━━━━━━━━━━━━━━━━━━━\u001b[0m \u001b[32m0.0/5.6 MB\u001b[0m \u001b[31m?\u001b[0m eta \u001b[36m-:--:--\u001b[0m\r\u001b[2K     \u001b[91m━\u001b[0m\u001b[91m╸\u001b[0m\u001b[90m━━━━━━━━━━━━━━━━━━━━━━━━━━━━━━━━━━━━━━\u001b[0m \u001b[32m0.3/5.6 MB\u001b[0m \u001b[31m7.5 MB/s\u001b[0m eta \u001b[36m0:00:01\u001b[0m\r\u001b[2K     \u001b[91m━━━━━━━━━━━━━━━━━\u001b[0m\u001b[91m╸\u001b[0m\u001b[90m━━━━━━━━━━━━━━━━━━━━━━\u001b[0m \u001b[32m2.5/5.6 MB\u001b[0m \u001b[31m36.1 MB/s\u001b[0m eta \u001b[36m0:00:01\u001b[0m\r\u001b[2K     \u001b[91m━━━━━━━━━━━━━━━━━━━━━━━━━━━━━━━━━━━━━━━\u001b[0m\u001b[91m╸\u001b[0m \u001b[32m5.6/5.6 MB\u001b[0m \u001b[31m66.0 MB/s\u001b[0m eta \u001b[36m0:00:01\u001b[0m\r\u001b[2K     \u001b[90m━━━━━━━━━━━━━━━━━━━━━━━━━━━━━━━━━━━━━━━━\u001b[0m \u001b[32m5.6/5.6 MB\u001b[0m \u001b[31m52.9 MB/s\u001b[0m eta \u001b[36m0:00:00\u001b[0m\n",
            "\u001b[?25hRequirement already satisfied: charset-normalizer>=2.0.0 in /usr/local/lib/python3.10/dist-packages (from pdfminer.six) (2.0.12)\n",
            "Collecting cryptography>=36.0.0 (from pdfminer.six)\n",
            "  Downloading cryptography-41.0.1-cp37-abi3-manylinux_2_28_x86_64.whl (4.3 MB)\n",
            "\u001b[2K     \u001b[90m━━━━━━━━━━━━━━━━━━━━━━━━━━━━━━━━━━━━━━━━\u001b[0m \u001b[32m4.3/4.3 MB\u001b[0m \u001b[31m132.9 MB/s\u001b[0m eta \u001b[36m0:00:00\u001b[0m\n",
            "\u001b[?25hRequirement already satisfied: cffi>=1.12 in /usr/local/lib/python3.10/dist-packages (from cryptography>=36.0.0->pdfminer.six) (1.15.1)\n",
            "Requirement already satisfied: pycparser in /usr/local/lib/python3.10/dist-packages (from cffi>=1.12->cryptography>=36.0.0->pdfminer.six) (2.21)\n",
            "Installing collected packages: cryptography, pdfminer.six\n",
            "Successfully installed cryptography-41.0.1 pdfminer.six-20221105\n"
          ]
        }
      ]
    }
  ]
}